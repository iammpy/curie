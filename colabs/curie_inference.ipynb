{
  "cells": [
    {
      "cell_type": "code",
      "execution_count": null,
      "metadata": {
        "colab": {
          "base_uri": "https://localhost:8080/"
        },
        "id": "QZi0OF2PukmQ",
        "outputId": "f0abe8c4-42f3-42d2-820d-9cc7a45b4238"
      },
      "outputs": [
        {
          "name": "stdout",
          "output_type": "stream",
          "text": [
            "Requirement already satisfied: google-ai-generativelanguage in /usr/local/lib/python3.10/dist-packages (0.6.6)\n",
            "Requirement already satisfied: google-api-core!=2.0.*,!=2.1.*,!=2.10.*,!=2.2.*,!=2.3.*,!=2.4.*,!=2.5.*,!=2.6.*,!=2.7.*,!=2.8.*,!=2.9.*,<3.0.0dev,>=1.34.1 in /usr/local/lib/python3.10/dist-packages (from google-api-core[grpc]!=2.0.*,!=2.1.*,!=2.10.*,!=2.2.*,!=2.3.*,!=2.4.*,!=2.5.*,!=2.6.*,!=2.7.*,!=2.8.*,!=2.9.*,<3.0.0dev,>=1.34.1->google-ai-generativelanguage) (2.19.2)\n",
            "Requirement already satisfied: google-auth!=2.24.0,!=2.25.0,<3.0.0dev,>=2.14.1 in /usr/local/lib/python3.10/dist-packages (from google-ai-generativelanguage) (2.27.0)\n",
            "Requirement already satisfied: proto-plus<2.0.0dev,>=1.22.3 in /usr/local/lib/python3.10/dist-packages (from google-ai-generativelanguage) (1.24.0)\n",
            "Requirement already satisfied: protobuf!=3.20.0,!=3.20.1,!=4.21.0,!=4.21.1,!=4.21.2,!=4.21.3,!=4.21.4,!=4.21.5,<5.0.0dev,>=3.19.5 in /usr/local/lib/python3.10/dist-packages (from google-ai-generativelanguage) (3.20.3)\n",
            "Requirement already satisfied: googleapis-common-protos<2.0.dev0,>=1.56.2 in /usr/local/lib/python3.10/dist-packages (from google-api-core!=2.0.*,!=2.1.*,!=2.10.*,!=2.2.*,!=2.3.*,!=2.4.*,!=2.5.*,!=2.6.*,!=2.7.*,!=2.8.*,!=2.9.*,<3.0.0dev,>=1.34.1->google-api-core[grpc]!=2.0.*,!=2.1.*,!=2.10.*,!=2.2.*,!=2.3.*,!=2.4.*,!=2.5.*,!=2.6.*,!=2.7.*,!=2.8.*,!=2.9.*,<3.0.0dev,>=1.34.1->google-ai-generativelanguage) (1.65.0)\n",
            "Requirement already satisfied: requests<3.0.0.dev0,>=2.18.0 in /usr/local/lib/python3.10/dist-packages (from google-api-core!=2.0.*,!=2.1.*,!=2.10.*,!=2.2.*,!=2.3.*,!=2.4.*,!=2.5.*,!=2.6.*,!=2.7.*,!=2.8.*,!=2.9.*,<3.0.0dev,>=1.34.1->google-api-core[grpc]!=2.0.*,!=2.1.*,!=2.10.*,!=2.2.*,!=2.3.*,!=2.4.*,!=2.5.*,!=2.6.*,!=2.7.*,!=2.8.*,!=2.9.*,<3.0.0dev,>=1.34.1->google-ai-generativelanguage) (2.32.3)\n",
            "Requirement already satisfied: grpcio<2.0dev,>=1.33.2 in /usr/local/lib/python3.10/dist-packages (from google-api-core[grpc]!=2.0.*,!=2.1.*,!=2.10.*,!=2.2.*,!=2.3.*,!=2.4.*,!=2.5.*,!=2.6.*,!=2.7.*,!=2.8.*,!=2.9.*,<3.0.0dev,>=1.34.1->google-ai-generativelanguage) (1.64.1)\n",
            "Requirement already satisfied: grpcio-status<2.0.dev0,>=1.33.2 in /usr/local/lib/python3.10/dist-packages (from google-api-core[grpc]!=2.0.*,!=2.1.*,!=2.10.*,!=2.2.*,!=2.3.*,!=2.4.*,!=2.5.*,!=2.6.*,!=2.7.*,!=2.8.*,!=2.9.*,<3.0.0dev,>=1.34.1->google-ai-generativelanguage) (1.48.2)\n",
            "Requirement already satisfied: cachetools<6.0,>=2.0.0 in /usr/local/lib/python3.10/dist-packages (from google-auth!=2.24.0,!=2.25.0,<3.0.0dev,>=2.14.1->google-ai-generativelanguage) (5.5.0)\n",
            "Requirement already satisfied: pyasn1-modules>=0.2.1 in /usr/local/lib/python3.10/dist-packages (from google-auth!=2.24.0,!=2.25.0,<3.0.0dev,>=2.14.1->google-ai-generativelanguage) (0.4.1)\n",
            "Requirement already satisfied: rsa<5,>=3.1.4 in /usr/local/lib/python3.10/dist-packages (from google-auth!=2.24.0,!=2.25.0,<3.0.0dev,>=2.14.1->google-ai-generativelanguage) (4.9)\n",
            "Requirement already satisfied: pyasn1<0.7.0,>=0.4.6 in /usr/local/lib/python3.10/dist-packages (from pyasn1-modules>=0.2.1->google-auth!=2.24.0,!=2.25.0,<3.0.0dev,>=2.14.1->google-ai-generativelanguage) (0.6.1)\n",
            "Requirement already satisfied: charset-normalizer<4,>=2 in /usr/local/lib/python3.10/dist-packages (from requests<3.0.0.dev0,>=2.18.0->google-api-core!=2.0.*,!=2.1.*,!=2.10.*,!=2.2.*,!=2.3.*,!=2.4.*,!=2.5.*,!=2.6.*,!=2.7.*,!=2.8.*,!=2.9.*,<3.0.0dev,>=1.34.1->google-api-core[grpc]!=2.0.*,!=2.1.*,!=2.10.*,!=2.2.*,!=2.3.*,!=2.4.*,!=2.5.*,!=2.6.*,!=2.7.*,!=2.8.*,!=2.9.*,<3.0.0dev,>=1.34.1->google-ai-generativelanguage) (3.3.2)\n",
            "Requirement already satisfied: idna<4,>=2.5 in /usr/local/lib/python3.10/dist-packages (from requests<3.0.0.dev0,>=2.18.0->google-api-core!=2.0.*,!=2.1.*,!=2.10.*,!=2.2.*,!=2.3.*,!=2.4.*,!=2.5.*,!=2.6.*,!=2.7.*,!=2.8.*,!=2.9.*,<3.0.0dev,>=1.34.1->google-api-core[grpc]!=2.0.*,!=2.1.*,!=2.10.*,!=2.2.*,!=2.3.*,!=2.4.*,!=2.5.*,!=2.6.*,!=2.7.*,!=2.8.*,!=2.9.*,<3.0.0dev,>=1.34.1->google-ai-generativelanguage) (3.10)\n",
            "Requirement already satisfied: urllib3<3,>=1.21.1 in /usr/local/lib/python3.10/dist-packages (from requests<3.0.0.dev0,>=2.18.0->google-api-core!=2.0.*,!=2.1.*,!=2.10.*,!=2.2.*,!=2.3.*,!=2.4.*,!=2.5.*,!=2.6.*,!=2.7.*,!=2.8.*,!=2.9.*,<3.0.0dev,>=1.34.1->google-api-core[grpc]!=2.0.*,!=2.1.*,!=2.10.*,!=2.2.*,!=2.3.*,!=2.4.*,!=2.5.*,!=2.6.*,!=2.7.*,!=2.8.*,!=2.9.*,<3.0.0dev,>=1.34.1->google-ai-generativelanguage) (2.2.3)\n",
            "Requirement already satisfied: certifi>=2017.4.17 in /usr/local/lib/python3.10/dist-packages (from requests<3.0.0.dev0,>=2.18.0->google-api-core!=2.0.*,!=2.1.*,!=2.10.*,!=2.2.*,!=2.3.*,!=2.4.*,!=2.5.*,!=2.6.*,!=2.7.*,!=2.8.*,!=2.9.*,<3.0.0dev,>=1.34.1->google-api-core[grpc]!=2.0.*,!=2.1.*,!=2.10.*,!=2.2.*,!=2.3.*,!=2.4.*,!=2.5.*,!=2.6.*,!=2.7.*,!=2.8.*,!=2.9.*,<3.0.0dev,>=1.34.1->google-ai-generativelanguage) (2024.8.30)\n",
            "Requirement already satisfied: google-generativeai in /usr/local/lib/python3.10/dist-packages (0.7.2)\n",
            "Requirement already satisfied: google-ai-generativelanguage==0.6.6 in /usr/local/lib/python3.10/dist-packages (from google-generativeai) (0.6.6)\n",
            "Requirement already satisfied: google-api-core in /usr/local/lib/python3.10/dist-packages (from google-generativeai) (2.19.2)\n",
            "Requirement already satisfied: google-api-python-client in /usr/local/lib/python3.10/dist-packages (from google-generativeai) (2.137.0)\n",
            "Requirement already satisfied: google-auth>=2.15.0 in /usr/local/lib/python3.10/dist-packages (from google-generativeai) (2.27.0)\n",
            "Requirement already satisfied: protobuf in /usr/local/lib/python3.10/dist-packages (from google-generativeai) (3.20.3)\n",
            "Requirement already satisfied: pydantic in /usr/local/lib/python3.10/dist-packages (from google-generativeai) (2.9.2)\n",
            "Requirement already satisfied: tqdm in /usr/local/lib/python3.10/dist-packages (from google-generativeai) (4.66.5)\n",
            "Requirement already satisfied: typing-extensions in /usr/local/lib/python3.10/dist-packages (from google-generativeai) (4.12.2)\n",
            "Requirement already satisfied: proto-plus<2.0.0dev,>=1.22.3 in /usr/local/lib/python3.10/dist-packages (from google-ai-generativelanguage==0.6.6->google-generativeai) (1.24.0)\n",
            "Requirement already satisfied: googleapis-common-protos<2.0.dev0,>=1.56.2 in /usr/local/lib/python3.10/dist-packages (from google-api-core->google-generativeai) (1.65.0)\n",
            "Requirement already satisfied: requests<3.0.0.dev0,>=2.18.0 in /usr/local/lib/python3.10/dist-packages (from google-api-core->google-generativeai) (2.32.3)\n",
            "Requirement already satisfied: cachetools<6.0,>=2.0.0 in /usr/local/lib/python3.10/dist-packages (from google-auth>=2.15.0->google-generativeai) (5.5.0)\n",
            "Requirement already satisfied: pyasn1-modules>=0.2.1 in /usr/local/lib/python3.10/dist-packages (from google-auth>=2.15.0->google-generativeai) (0.4.1)\n",
            "Requirement already satisfied: rsa<5,>=3.1.4 in /usr/local/lib/python3.10/dist-packages (from google-auth>=2.15.0->google-generativeai) (4.9)\n",
            "Requirement already satisfied: httplib2<1.dev0,>=0.19.0 in /usr/local/lib/python3.10/dist-packages (from google-api-python-client->google-generativeai) (0.22.0)\n",
            "Requirement already satisfied: google-auth-httplib2<1.0.0,>=0.2.0 in /usr/local/lib/python3.10/dist-packages (from google-api-python-client->google-generativeai) (0.2.0)\n",
            "Requirement already satisfied: uritemplate<5,>=3.0.1 in /usr/local/lib/python3.10/dist-packages (from google-api-python-client->google-generativeai) (4.1.1)\n",
            "Requirement already satisfied: annotated-types>=0.6.0 in /usr/local/lib/python3.10/dist-packages (from pydantic->google-generativeai) (0.7.0)\n",
            "Requirement already satisfied: pydantic-core==2.23.4 in /usr/local/lib/python3.10/dist-packages (from pydantic->google-generativeai) (2.23.4)\n",
            "Requirement already satisfied: grpcio<2.0dev,>=1.33.2 in /usr/local/lib/python3.10/dist-packages (from google-api-core[grpc]!=2.0.*,!=2.1.*,!=2.10.*,!=2.2.*,!=2.3.*,!=2.4.*,!=2.5.*,!=2.6.*,!=2.7.*,!=2.8.*,!=2.9.*,<3.0.0dev,>=1.34.1->google-ai-generativelanguage==0.6.6->google-generativeai) (1.64.1)\n",
            "Requirement already satisfied: grpcio-status<2.0.dev0,>=1.33.2 in /usr/local/lib/python3.10/dist-packages (from google-api-core[grpc]!=2.0.*,!=2.1.*,!=2.10.*,!=2.2.*,!=2.3.*,!=2.4.*,!=2.5.*,!=2.6.*,!=2.7.*,!=2.8.*,!=2.9.*,<3.0.0dev,>=1.34.1->google-ai-generativelanguage==0.6.6->google-generativeai) (1.48.2)\n",
            "Requirement already satisfied: pyparsing!=3.0.0,!=3.0.1,!=3.0.2,!=3.0.3,<4,>=2.4.2 in /usr/local/lib/python3.10/dist-packages (from httplib2<1.dev0,>=0.19.0->google-api-python-client->google-generativeai) (3.1.4)\n",
            "Requirement already satisfied: pyasn1<0.7.0,>=0.4.6 in /usr/local/lib/python3.10/dist-packages (from pyasn1-modules>=0.2.1->google-auth>=2.15.0->google-generativeai) (0.6.1)\n",
            "Requirement already satisfied: charset-normalizer<4,>=2 in /usr/local/lib/python3.10/dist-packages (from requests<3.0.0.dev0,>=2.18.0->google-api-core->google-generativeai) (3.3.2)\n",
            "Requirement already satisfied: idna<4,>=2.5 in /usr/local/lib/python3.10/dist-packages (from requests<3.0.0.dev0,>=2.18.0->google-api-core->google-generativeai) (3.10)\n",
            "Requirement already satisfied: urllib3<3,>=1.21.1 in /usr/local/lib/python3.10/dist-packages (from requests<3.0.0.dev0,>=2.18.0->google-api-core->google-generativeai) (2.2.3)\n",
            "Requirement already satisfied: certifi>=2017.4.17 in /usr/local/lib/python3.10/dist-packages (from requests<3.0.0.dev0,>=2.18.0->google-api-core->google-generativeai) (2024.8.30)\n"
          ]
        }
      ],
      "source": [
        "!pip install google-ai-generativelanguage\n",
        "!pip install google-generativeai"
      ]
    },
    {
      "cell_type": "code",
      "execution_count": null,
      "metadata": {
        "colab": {
          "base_uri": "https://localhost:8080/"
        },
        "id": "kP6dd87I78Yq",
        "outputId": "fb190068-2a67-47c2-8319-1c533abf6f6b"
      },
      "outputs": [
        {
          "name": "stdout",
          "output_type": "stream",
          "text": [
            "Mounted at /content/drive\n"
          ]
        }
      ],
      "source": [
        "import google.generativeai as genai\n",
        "import inspect\n",
        "import json\n",
        "import os\n",
        "import sys\n",
        "\n",
        "from google.colab import drive\n",
        "from google.colab import userdata\n",
        "from io import StringIO\n",
        "\n",
        "drive.mount('/content/drive')"
      ]
    },
    {
      "cell_type": "markdown",
      "metadata": {
        "id": "ElblcG7MfOM4"
      },
      "source": [
        "# Load Papers"
      ]
    },
    {
      "cell_type": "code",
      "execution_count": null,
      "metadata": {
        "cellView": "form",
        "colab": {
          "base_uri": "https://localhost:8080/"
        },
        "id": "SNezBvLsPHh1",
        "outputId": "e8379076-2c02-40c1-a956-0f6afa0bb78b"
      },
      "outputs": [
        {
          "name": "stdout",
          "output_type": "stream",
          "text": [
            "The result of your inference is going to be saved in /content/drive/MyDrive/benchmarks/public_release/inference/qecc_65/describe_code_in_paper/gemini/run_0/success/\n"
          ]
        }
      ],
      "source": [
        "# @title Task Specific\n",
        "\n",
        "BASEDIR = '/content/drive/MyDrive/benchmarks/public_release'  # @param {type:\"string\"}\n",
        "assert(os.path.exists(BASEDIR))\n",
        "\n",
        "TASK_NAME = \"qecc_65\" # @param {type:\"string\"}  # specify valid names\n",
        "TASK_DIR = f\"{BASEDIR}/data/{TASK_NAME}/\"\n",
        "\n",
        "PROMPT_NAME = \"\" # @param {type:\"string\"}\n",
        "PROMPT_FULL_NAME = PROMPT_NAME+\".txt\"\n",
        "\n",
        "DIRPATH = f'{BASEDIR}/inference'\n",
        "INPUT_DIR= f'{TASK_DIR}/inputs/'\n",
        "\n",
        "INFERENCE_TRIAL = \"run_0\" # @param {type:\"string\"}\n",
        "EXP_DIR = f\"{DIRPATH}/{TASK_NAME}/{PROMPT_NAME}/gemini/{INFERENCE_TRIAL}/success/\"\n",
        "\n",
        "MY_API_KEY=None # @param\n",
        "\n",
        "\n",
        "\n",
        "\n",
        "if not os.path.exists(EXP_DIR):\n",
        "  os.makedirs(EXP_DIR)\n",
        "  print(f\"Created directory {EXP_DIR}\")\n",
        "\n",
        "print(f\"The result of your inference is going to be saved in {EXP_DIR}\")"
      ]
    },
    {
      "cell_type": "code",
      "execution_count": null,
      "metadata": {
        "id": "7HGeHjjdyrIP"
      },
      "outputs": [],
      "source": [
        "def get_paper_list(inputdir):\n",
        "  files = os.listdir(inputdir)\n",
        "  papers = []\n",
        "  for f in files:\n",
        "    if f.endswith('.json'):\n",
        "      papers.append(f[:f.rindex(\".json\")])\n",
        "  return papers"
      ]
    },
    {
      "cell_type": "code",
      "execution_count": null,
      "metadata": {
        "colab": {
          "base_uri": "https://localhost:8080/"
        },
        "id": "mMCDf8Ssym3G",
        "outputId": "8e6ac0fe-08c1-474b-9524-1b77285bdbce"
      },
      "outputs": [
        {
          "name": "stdout",
          "output_type": "stream",
          "text": [
            "65 papers are loaded. \n",
            "Here is the list: \n",
            "['1502.05267', 'quant-ph_9705052', '1802.07419', '1712.07666', '1709.08658', '2003.02717', '2203.16534', '1503.08800', 'quant-ph_9711049', '2209.11405', '2311.08653', '2007.09154', 'quant-ph_9703002', '1709.04471', '2007.12152', '1910.10746', '1801.05897', '2107.02194', '2303.04798', '1903.03937', '2311.07679', '2201.07802', '1707.02308', 'quant-ph_9810055', '2106.02649', 'cond-mat_0607736', '1503.06237', '2210.16957', '1505.02576', '2008.09495', '2311.13040', '1703.02973', '1809.09801', '1907.09528', '2306.11621', '2009.03921', '2402.07476', '2312.04522', '2212.09935', '2309.16503', '2010.06628', '1906.11394', '1603.04442', 'quant-ph_0008040', 'quant-ph_0502086', 'quant-ph_9711021', 'cond-mat_0010440', '2303.02432', '2210.10808', 'quant-ph_0702075', 'quant-ph_0701020', '1602.00008', '1710.04631', 'quant-ph_0605138', 'quant-ph_0210097', '2110.11510', '1604.07925', 'quant-ph_9906114', '2112.01446', '1501.07779', '2203.00103', 'cs_0509062', 'cond-mat_9707273', '1805.01474', '1708.08474']\n"
          ]
        }
      ],
      "source": [
        "papers = get_paper_list(INPUT_DIR)\n",
        "\n",
        "print(f\"{len(papers)} papers are loaded. \\nHere is the list: \\n{papers}\")"
      ]
    },
    {
      "cell_type": "markdown",
      "metadata": {
        "id": "chPK2r8CfRcC"
      },
      "source": [
        "# Run inference"
      ]
    },
    {
      "cell_type": "code",
      "execution_count": null,
      "metadata": {
        "id": "HssNqrtXcohP"
      },
      "outputs": [],
      "source": [
        "#@title Helper Functions\n",
        "\n",
        "def load_prompt(filename: str) -> str:\n",
        "  with open(filename, 'r') as file:\n",
        "    prompt = file.read()\n",
        "  return prompt.strip()\n",
        "\n",
        "\n",
        "def prepare_task_for_paper(paper: str,\n",
        "                           prompt_path: str,\n",
        "                           )-> dict[str, str]:\n",
        "  paper_input = f'{INPUT_DIR}/{paper}.json'\n",
        "  inputs = json.load(open(paper_input, 'r'))\n",
        "  raw_prompt = load_prompt(prompt_path)\n",
        "  prompt = raw_prompt.replace('{{text}}', paper_input)\n",
        "  return {\n",
        "          'record_id': inputs['record_id'],\n",
        "          'prompt_text':  prompt,\n",
        "          'response_text': ''\n",
        "          }\n",
        "\n",
        "\n",
        "def query_model(query_prompt: str,\n",
        "                model_name: str = 'gemini-1.5-pro-latest'\n",
        "                ) -> str:\n",
        "    model = genai.GenerativeModel(model_name=model_name)\n",
        "    response = model.generate_content(query_prompt)\n",
        "    return response.text\n",
        "\n",
        "\n",
        "def run_eval_loop(paper_list,\n",
        "                  results_dir: str,\n",
        "                  ):\n",
        "  genai.configure(api_key=MY_API_KEY)\n",
        "  for PAPER in paper_list:\n",
        "    print(PAPER)\n",
        "    outpath = f'{results_dir}/{PAPER}.json'\n",
        "    if os.path.exists(outpath):\n",
        "      print(f'Skipping since result for {PAPER} already exists.')\n",
        "    else:\n",
        "      out_dict = prepare_task_for_paper(\n",
        "          paper=PAPER,\n",
        "          prompt_path=f'{BASEDIR}/prompts/{PROMPT_FULL_NAME}'\n",
        "      )\n",
        "\n",
        "      out_dict['response_text'] = query_model(out_dict['prompt_text'])\n",
        "      json.dump(out_dict, open(outpath, 'w'))\n",
        "  return out_dict\n"
      ]
    },
    {
      "cell_type": "code",
      "execution_count": null,
      "metadata": {
        "colab": {
          "base_uri": "https://localhost:8080/",
          "height": 1000
        },
        "id": "KHA8EXitJnqK",
        "outputId": "59fd2af7-8328-4bfc-855c-fd278957b36f"
      },
      "outputs": [
        {
          "name": "stdout",
          "output_type": "stream",
          "text": [
            "1502.05267\n",
            "quant-ph_9705052\n",
            "1802.07419\n",
            "1712.07666\n",
            "1709.08658\n",
            "2003.02717\n",
            "2203.16534\n",
            "1503.08800\n",
            "quant-ph_9711049\n",
            "2209.11405\n",
            "2311.08653\n",
            "2007.09154\n",
            "quant-ph_9703002\n",
            "1709.04471\n",
            "2007.12152\n",
            "1910.10746\n",
            "1801.05897\n",
            "2107.02194\n",
            "2303.04798\n",
            "1903.03937\n",
            "2311.07679\n",
            "2201.07802\n",
            "1707.02308\n",
            "quant-ph_9810055\n",
            "2106.02649\n",
            "cond-mat_0607736\n",
            "1503.06237\n",
            "2210.16957\n",
            "1505.02576\n",
            "2008.09495\n",
            "2311.13040\n",
            "1703.02973\n",
            "1809.09801\n",
            "1907.09528\n",
            "2306.11621\n",
            "2009.03921\n",
            "2402.07476\n",
            "2312.04522\n",
            "2212.09935\n",
            "2309.16503\n",
            "2010.06628\n",
            "1906.11394\n",
            "1603.04442\n",
            "quant-ph_0008040\n",
            "quant-ph_0502086\n",
            "quant-ph_9711021\n",
            "cond-mat_0010440\n",
            "2303.02432\n",
            "2210.10808\n",
            "quant-ph_0702075\n",
            "quant-ph_0701020\n",
            "1602.00008\n",
            "1710.04631\n",
            "quant-ph_0605138\n",
            "quant-ph_0210097\n",
            "2110.11510\n",
            "1604.07925\n",
            "quant-ph_9906114\n",
            "2112.01446\n",
            "1501.07779\n",
            "2203.00103\n",
            "cs_0509062\n",
            "cond-mat_9707273\n",
            "1805.01474\n",
            "1708.08474\n"
          ]
        },
        {
          "data": {
            "text/plain": [
              "{'record_id': '1708.08474',\n",
              " 'prompt_text': 'Fill in a YAML file for the code described in the attached paper according to the prescription defined in the YAML template that starts on the next paragraph. Fields are to be filled only if they are directly relevant to the code introduced in the paper. Be sure to extract any quantitative data like thresholds and code rates. Above all, be concise! If you cannot explain something technical in detail, do not try to explain it. If something is not detailed in the paper, do not mention it.\\n\\n#######################################################\\n## This is a code entry in the error correction zoo. ##\\n##       https://github.com/errorcorrectionzoo       ##\\n#######################################################\\n\\n# Use UTF-8 unicode encoding\\n# AMS-TeX commands are rendered inside \\\\( ... \\\\) using MathJaX.\\n# Allowed external bibliographic references are\\n#    \\\\cite{arXiv:#.#} or \\\\cite{arXiv:quant-ph/#} (PREFERRED),\\n#    \\\\cite{doi:#}, or, as a last resort\\n#    \\\\cite{manual:{(enter citation line incl. author and year here)}}\\n# External websites such as code tables, coding theory packages, github pages linked as\\n#    \\\\\\\\url{https://example.com/example}\\n#    \\\\href{https://example.com/example}{link text}\\n# Internal references to codes are\\n#    \\\\hyperref[code:code_id]{link text}\\n# Delete instructional comments when submitting\\n\\n# code id, physical, logical are all lower case\\n# physical or logical are one of the following: bits, q-ary_digits, matrices, rings, reals, spheres, qubits, qudits, galois, oscillators, spins, or categories\\ncode_id: no_spaces_lower_case\\nphysical: qubits\\nlogical: qubits\\n\\n# Only list if the code being described has specific parameters. These are typically in the form of (n,K,d) and [n,k,d] for classical codes, or ((n,K,d)) and [[n,k,d]] for quantum codes.\\nCode_parameter: \\'((2^r-1,r,d))_{6}\\'\\n\\n# Apostrophes are denoted by two apostrophe characters, i.e., \\'\\'\\n# Code title (SINGULAR) + first reference(s) (optional).\\nname: \\'Important-last-name favorite code\\'\\nintroduced: \\'\\\\cite{doi:10.1070/RM1997v052n06ABEH002155}\\'\\n\\n# Anything applicable to a larger parent set of codes (see below) should go in\\n# that entry instead of here.\\ndescription: |\\n  First paragraph is a short standalone description, containing no references to figures.\\n\\n  Subsequent paragraphs go into (possibly quantitative) details.\\n\\n  \\\\subsection{Subsection headings work}\\n  \\\\paragraph{And so do paragraphs}\\n# Only add subsections or paragraphs if the paper has long discussions about broad code classes.\\n\\n\\n# Long fields such as this one can be written in other YML formats, such as the one using the pipe symbol\\n# protection: |\\n#   text...\\n#   more text...\\nprotection: \\'Protects against ... Pauli noise. Approximate code with parameters ... for noise model ... .\\'\\n\\n# This field starts a list of specific labeled subfields; do not leave it empty. If empty, comment out. Also, indentations are important!\\nfeatures:\\n\\n  # Do not include this if no specific encoders are mentioned.\\n  encoders:\\n    - \\'Specific description of a process that makes the states, usually for quantum codes.\\'\\n    - \\'Unitary circuit of depth ... \\\\cite{arxiv:old-paper}.\\'\\n    - \\'Measurement-based preparation ... with ancilla overhead of ... .\\'\\n    - \\'Leave discussion of fault tolerance to fault-tolerance field.\\'\\n\\n  # Not all fields are indexed by a dash\\n  transversal_gates: \\'Transversal ... gates \\\\cite{doi:ok-paper}. Comment out if doesn\\'\\'t apply.\\'\\n\\n  # Do not include this if no specific gates are mentioned.\\n  general_gates:\\n    - \\'Universal gate set achieved by either additional ... gate.\\'\\n    - \\'Magic-state distillation protocols\\'\\n    - \\'kth \\\\term{Clifford hierarchy} gates obtained by ... circuits\\'\\n\\n  # Do not include this if no specific decoders are mentioned.\\n  decoders:\\n    - \\'Details about how syndrome measurements are done; discuss overhead, if applicable.\\'\\n    - \\'MWPM decoding algorithm \\\\cite{doi:good-paper} with ... overhead.\\'\\n    - \\'Just-in-time decoder with ... \\\\cite{arxiv:awesome-paper}.\\'\\n\\n  fault_tolerance:\\n    - \\'Transversal gates are fault-tolerant w.r.t. ... noise \\\\cite{doi:ok-paper}\\'\\n    - \\'Other fault-tolerant gadgets (measurements, encoders, error correcting steps)\\'\\n    - \\'Noise-model-preserving gadgets, noise-biased gates, fault-tolerant flag error correction\\'\\n    - \\'Pieceable fault tolerance.\\'\\n\\n  code_capacity_threshold:\\n    - \\'\\\\(1.5%\\\\) error-correction threshold against some noise with *noiseless* decoder of some complexity \\\\cite{arxiv:paper}.\\'\\n\\n  threshold:\\n    - \\'\\\\(0.3\\\\%\\\\) error-correction threshold ... with *noisy* ... decoder of some complexity \\\\cite{doi:good-paper}.\\'\\n    - \\'\\\\(10^{-5}\\\\) computational threshold using concatenated scheme under ... noise with overhead of ... \\'\\n\\n# Include only if specific experimental or real-world realizations are reported.\\nrealizations:\\n  # List and explain the different \"domains\" of realizations in list items.\\n  - \\'Code used in DVDs \\\\cite{doi:####...}, 5G, etc.\\'\\n  - \\'Realized in trapped-ion quantum devices \\\\cite{arXiv:####.#####}, etc.\\'\\n\\n# Only include notes if the specific technical items listed below are included in the paper.\\nnotes:\\n  - \\'Bounds on \\\\(n\\\\), \\\\(k\\\\), or \\\\(d\\\\) for this class, unless mentioned in description.\\'\\n  - \\'Links to code tables, github, GAP algebra packages, more papers \\\\cite{arXiv:####.#####}.\\'\\n\\n# Include as many direct relations as were mentioned in the paper. The relations below are just examples.\\nrelations:\\n  parents:\\n    - code_id: code_id1\\n      detail: \\'The smallest code family that includes this code that is defined over the same physical space structure or alphabet.\\'\\n  cousins:\\n    - code_id: code_id2\\n      detail: \\'Codes that are directly relevant and described by a property shared by this code.\\'\\n    - code_id: code_id3\\n      detail: \\'Code family of similar encoding but with different physical space structures (qudit vs. qubit surface code).\\'\\n\\n# Include footer below and change the date to today’s date in the prescribed format\\n# Begin Entry Meta Information\\n_meta:\\n  # Change log - most recent first\\n  changelog:\\n    - user_id: VictorVAlbert\\n      date: \\'YYYY-MM-DD\\'\\n\\nHere is the paper\\n\\n/content/drive/MyDrive/benchmarks/public_release/data/qecc_65//inputs//1708.08474.json',\n",
              " 'response_text': \"#######################################################\\n## This is a code entry in the error correction zoo. ##\\n##       https://github.com/errorcorrectionzoo       ##\\n#######################################################\\n\\n# Use UTF-8 unicode encoding\\n# AMS-TeX commands are rendered inside \\\\( ... \\\\) using MathJaX.\\n# Allowed external bibliographic references are\\n#    \\\\cite{arXiv:#.#} or \\\\cite{arXiv:quant-ph/#} (PREFERRED),\\n#    \\\\cite{doi:#}, or, as a last resort\\n#    \\\\cite{manual:{(enter citation line incl. author and year here)}}\\n# External websites such as code tables, coding theory packages, github pages linked as\\n#    \\\\\\\\url{https://example.com/example}\\n#    \\\\href{https://example.com/example}{link text}\\n# Internal references to codes are\\n#    \\\\hyperref[code:code_id]{link text}\\n# Delete instructional comments when submitting\\n\\n# code id, physical, logical are all lower case\\n# physical or logical are one of the following: bits, q-ary_digits, matrices, rings, reals, spheres, qubits, qudits, galois, oscillators, spins, or categories\\ncode_id: trigono2\\nphysical: qubits\\nlogical: qubits\\n\\n# Only list if the code being described has specific parameters. These are typically in the form of (n,K,d) and [n,k,d] for classical codes, or ((n,K,d)) and [[n,k,d]] for quantum codes.\\nCode_parameter: '((2^r-1,r,d))_{6}' \\n\\n# Apostrophes are denoted by two apostrophe characters, i.e., ''\\n# Code title (SINGULAR) + first reference(s) (optional).\\nname: 'Trigonometric code'\\nintroduced: '\\\\cite{doi:10.1070/RM1997v052n06ABEH002155}'\\n\\n# Anything applicable to a larger parent set of codes (see below) should go in\\n# that entry instead of here.\\ndescription: |\\n  This family of quantum codes is defined on a ring of \\\\(2^r-1\\\\) qubits, where \\\\(r\\\\) is any integer greater than one.\\n\\n  The code has \\\\(r\\\\) logical qubits and is defined in terms of its stabilizer generators, which are products of Pauli \\\\(X\\\\) and \\\\(Z\\\\) operators acting on specific qubits in the ring. The code can be viewed as a generalization of the five-qubit code.\\n\\n\\n# Long fields such as this one can be written in other YML formats, such as the one using the pipe symbol\\n# protection: |\\n#   text...\\n#   more text...\\n# protection: 'Protects against ... Pauli noise. Approximate code with parameters ... for noise model ... .'\\n\\n# This field starts a list of specific labeled subfields; do not leave it empty. If empty, comment out. Also, indentations are important!\\nfeatures:\\n\\n  # Do not include this if no specific encoders are mentioned.\\n  # encoders:\\n  #   - 'Specific description of a process that makes the states, usually for quantum codes.'\\n  #   - 'Unitary circuit of depth ... \\\\cite{arxiv:old-paper}.'\\n  #   - 'Measurement-based preparation ... with ancilla overhead of ... .'\\n  #   - 'Leave discussion of fault tolerance to fault-tolerance field.'\\n\\n  # Not all fields are indexed by a dash\\n  # transversal_gates: 'Transversal ... gates \\\\cite{doi:ok-paper}. Comment out if doesn''t apply.'\\n\\n  # Do not include this if no specific gates are mentioned.\\n  # general_gates:\\n  #   - 'Universal gate set achieved by either additional ... gate.'\\n  #   - 'Magic-state distillation protocols'\\n  #   - 'kth \\\\term{Clifford hierarchy} gates obtained by ... circuits'\\n\\n  # Do not include this if no specific decoders are mentioned.\\n  # decoders:\\n  #   - 'Details about how syndrome measurements are done; discuss overhead, if applicable.'\\n  #   - 'MWPM decoding algorithm \\\\cite{doi:good-paper} with ... overhead.'\\n  #   - 'Just-in-time decoder with ... \\\\cite{arxiv:awesome-paper}.'\\n\\n  # fault_tolerance:\\n  #   - 'Transversal gates are fault-tolerant w.r.t. ... noise \\\\cite{doi:ok-paper}'\\n  #   - 'Other fault-tolerant gadgets (measurements, encoders, error correcting steps)'\\n  #   - 'Noise-model-preserving gadgets, noise-biased gates, fault-tolerant flag error correction'\\n  #   - 'Pieceable fault tolerance.'\\n\\n  # code_capacity_threshold:\\n  #   - '\\\\(1.5%\\\\) error-correction threshold against some noise with *noiseless* decoder of some complexity \\\\cite{arxiv:paper}.'\\n\\n  # threshold:\\n  #   - '\\\\(0.3\\\\%\\\\) error-correction threshold ... with *noisy* ... decoder of some complexity \\\\cite{doi:good-paper}.'\\n  #   - '\\\\(10^{-5}\\\\) computational threshold using concatenated scheme under ... noise with overhead of ... '\\n\\n# Include only if specific experimental or real-world realizations are reported.\\n# realizations:\\n  # - 'Code used in DVDs \\\\cite{doi:####...}, 5G, etc.'\\n  # - 'Realized in trapped-ion quantum devices \\\\cite{arXiv:####.#####}, etc.'\\n\\n# Only include notes if the specific technical items listed below are included in the paper.\\n# notes:\\n  # - 'Bounds on \\\\(n\\\\), \\\\(k\\\\), or \\\\(d\\\\) for this class, unless mentioned in description.'\\n  # - 'Links to code tables, github, GAP algebra packages, more papers \\\\cite{arXiv:####.#####}.'\\n\\n# Include as many direct relations as were mentioned in the paper. The relations below are just examples.\\nrelations:\\n  parents:\\n    - code_id: additive\\n      detail: 'This code is a special type of additive code.'\\n  cousins:\\n    - code_id: five_qubit\\n      detail: 'This code is a generalization of the five-qubit code.'\\n\\n\\n# Include footer below and change the date to today’s date in the prescribed format\\n# Begin Entry Meta Information\\n_meta:\\n  # Change log - most recent first\\n  changelog:\\n    - user_id: VictorVAlbert\\n      date: '2023-10-26'\\n\"}"
            ]
          },
          "execution_count": 8,
          "metadata": {},
          "output_type": "execute_result"
        }
      ],
      "source": [
        "run_eval_loop(papers, EXP_DIR)"
      ]
    },
    {
      "cell_type": "code",
      "execution_count": null,
      "metadata": {
        "id": "cs7vqT-4P6HJ"
      },
      "outputs": [],
      "source": []
    }
  ],
  "metadata": {
    "accelerator": "GPU",
    "colab": {
      "gpuType": "T4",
      "provenance": []
    },
    "kernelspec": {
      "display_name": "Python 3",
      "name": "python3"
    },
    "language_info": {
      "name": "python"
    }
  },
  "nbformat": 4,
  "nbformat_minor": 0
}
