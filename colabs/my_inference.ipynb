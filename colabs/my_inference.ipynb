{
 "cells": [
  {
   "cell_type": "code",
   "execution_count": 1,
   "id": "b5fad142",
   "metadata": {},
   "outputs": [],
   "source": [
    "PROMPT_NAME = \"describe_code_in_paper\" # @param {type:\"string\"}\n",
    "PROMPT_FULL_NAME = PROMPT_NAME+\".txt\"\n",
    "\n",
    "DIRPATH = f'./inference'\n",
    "INPUT_DIR= f'../data/mpve/inputs/'"
   ]
  },
  {
   "cell_type": "code",
   "execution_count": null,
   "id": "d01519d9",
   "metadata": {},
   "outputs": [],
   "source": [
    "def prepare_task_for_paper(paper: str,\n",
    "                           prompt_path: str,\n",
    "                           )-> dict[str, str]:\n",
    "  paper_input = f'{INPUT_DIR}/{paper}.json'\n",
    "  inputs = json.load(open(paper_input, 'r'))\n",
    "  raw_prompt = load_prompt(prompt_path)\n",
    "  prompt = raw_prompt.replace('{{text}}', paper_input)\n",
    "  return {\n",
    "          'record_id': inputs['record_id'],\n",
    "          'prompt_text':  prompt,\n",
    "          'response_text': ''\n",
    "          }"
   ]
  }
 ],
 "metadata": {
  "kernelspec": {
   "display_name": "d2l",
   "language": "python",
   "name": "python3"
  },
  "language_info": {
   "codemirror_mode": {
    "name": "ipython",
    "version": 3
   },
   "file_extension": ".py",
   "mimetype": "text/x-python",
   "name": "python",
   "nbconvert_exporter": "python",
   "pygments_lexer": "ipython3",
   "version": "3.10.16"
  }
 },
 "nbformat": 4,
 "nbformat_minor": 5
}
